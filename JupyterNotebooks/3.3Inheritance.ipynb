{
  "nbformat": 4,
  "nbformat_minor": 0,
  "metadata": {
    "colab": {
      "provenance": [],
      "include_colab_link": true
    },
    "kernelspec": {
      "name": "python3",
      "display_name": "Python 3"
    },
    "language_info": {
      "name": "python"
    }
  },
  "cells": [
    {
      "cell_type": "markdown",
      "metadata": {
        "id": "view-in-github",
        "colab_type": "text"
      },
      "source": [
        "<a href=\"https://colab.research.google.com/github/Aadil-5122/Object-Oriented-Programming-in-Python/blob/main/JupyterNotebooks/3.3Inheritance.ipynb\" target=\"_parent\"><img src=\"https://colab.research.google.com/assets/colab-badge.svg\" alt=\"Open In Colab\"/></a>"
      ]
    },
    {
      "cell_type": "code",
      "source": [
        "# --------------------\n",
        "# SECTION - III(c) - Extend a Class Functionality using Inheritance\n",
        "# --------------------\n",
        "\n",
        "class Employee: # Parent Class\n",
        "    def __init__(self, name, age, salary):\n",
        "        self.name = name\n",
        "        self.age = age\n",
        "        self.salary = salary\n",
        "\n",
        "    def work(self):\n",
        "        print(f'{self.name} is working')\n"
      ],
      "metadata": {
        "id": "-barADtiI5QT"
      },
      "execution_count": null,
      "outputs": []
    },
    {
      "cell_type": "code",
      "source": [
        "class SoftwareEngineer(Employee): # Syntax for a Child Class\n",
        "    \n",
        "    def __init__(self, name, age, salary, level):\n",
        "        \n",
        "        super().__init__(name, age, salary)\n",
        "\n",
        "        self.level = level\n",
        "\n",
        "    def debug(self):\n",
        "        print(f\"{self.name} is debugging\")\n"
      ],
      "metadata": {
        "id": "BEkO3CzvI_x3"
      },
      "execution_count": null,
      "outputs": []
    },
    {
      "cell_type": "code",
      "source": [
        "class Designer(Employee): # Syntax for a Child Class\n",
        "    \n",
        "    def draw(self):\n",
        "        print(f\"{self.name} is drawing\")\n"
      ],
      "metadata": {
        "id": "5ZNgMWqxJCwr"
      },
      "execution_count": null,
      "outputs": []
    },
    {
      "cell_type": "code",
      "source": [
        "# Implementation of Child Class using the instance attributes and methods of Parent Class\n",
        "\n",
        "se = SoftwareEngineer(\"Max\", 24, 6000, \"Junior\")\n",
        "print(se.name, se.age)\n",
        "se.work()\n",
        "print(se.level)\n"
      ],
      "metadata": {
        "id": "DV7su-_eJEyV"
      },
      "execution_count": null,
      "outputs": []
    },
    {
      "cell_type": "code",
      "source": [
        "d = Designer(\"Phillip\", 27, 7000)\n",
        "print(d.name, d.age)\n",
        "d.work()\n"
      ],
      "metadata": {
        "id": "44jYpzezJI2D"
      },
      "execution_count": null,
      "outputs": []
    },
    {
      "cell_type": "code",
      "source": [
        "se.debug()\n",
        "d.draw()"
      ],
      "metadata": {
        "id": "Rf6a4Vy9JKdL"
      },
      "execution_count": null,
      "outputs": []
    }
  ]
}