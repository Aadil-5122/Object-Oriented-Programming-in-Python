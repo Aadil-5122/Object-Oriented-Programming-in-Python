{
  "nbformat": 4,
  "nbformat_minor": 0,
  "metadata": {
    "colab": {
      "provenance": [],
      "include_colab_link": true
    },
    "kernelspec": {
      "name": "python3",
      "display_name": "Python 3"
    },
    "language_info": {
      "name": "python"
    }
  },
  "cells": [
    {
      "cell_type": "markdown",
      "metadata": {
        "id": "view-in-github",
        "colab_type": "text"
      },
      "source": [
        "<a href=\"https://colab.research.google.com/github/Aadil-5122/Object-Oriented-Programming-in-Python/blob/main/JupyterNotebooks/5.2Encapsulation.ipynb\" target=\"_parent\"><img src=\"https://colab.research.google.com/assets/colab-badge.svg\" alt=\"Open In Colab\"/></a>"
      ]
    },
    {
      "cell_type": "code",
      "source": [
        "# --------------------\n",
        "# SECTION - V(b) - Private Instance Methods\n",
        "# --------------------\n",
        "\n",
        "class SoftwareEngineer:\n",
        "\n",
        "    def __init__(self, name, age):\n",
        "        self.name = name\n",
        "        self.age = age\n",
        "\n",
        "        self._salary = None # Private Instance Variable\n",
        "        self.__salary1 = None # Private Instance Variable\n",
        "        self._num_bugs_resolved = 0 # Private Instance Variable\n",
        "\n",
        "    def code(self):\n",
        "        self._num_bugs_resolved += 1\n"
      ],
      "metadata": {
        "id": "CXwAdvMpMES_"
      },
      "execution_count": null,
      "outputs": []
    },
    {
      "cell_type": "code",
      "source": [
        "    # Also called \"Getter\" Function\n",
        "    def get_salary(self):\n",
        "        return self._salary\n",
        "\n",
        "    # Also called \"Setter\" Function\n",
        "    def set_salary(self, base_value):\n",
        "        self._salary = self._calculate_salary(base_value)\n",
        "\n",
        "    # the names of Private Instance Methods also start with \"_\"\n",
        "\n",
        "    def _calculate_salary(self, base_value):\n",
        "        if self._num_bugs_resolved < 10:\n",
        "            return base_value\n",
        "        if self._num_bugs_resolved < 100:\n",
        "            return base_value * 2\n",
        "        return base_value * 3\n"
      ],
      "metadata": {
        "id": "yp-yjpOfMFSG"
      },
      "execution_count": null,
      "outputs": []
    },
    {
      "cell_type": "code",
      "source": [
        "se = SoftwareEngineer(\"Max\", 25)\n",
        "print(se.age, se.name, se._salary)\n"
      ],
      "metadata": {
        "id": "HPJsU0cMMHJi"
      },
      "execution_count": null,
      "outputs": []
    },
    {
      "cell_type": "code",
      "source": [
        "for i in range(70):\n",
        "    se.code()\n",
        "\n",
        "se.set_salary(6000)\n",
        "print(se.get_salary())\n"
      ],
      "metadata": {
        "id": "t9surEzwMJwq"
      },
      "execution_count": null,
      "outputs": []
    }
  ]
}