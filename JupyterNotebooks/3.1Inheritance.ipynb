{
  "nbformat": 4,
  "nbformat_minor": 0,
  "metadata": {
    "colab": {
      "provenance": [],
      "include_colab_link": true
    },
    "kernelspec": {
      "name": "python3",
      "display_name": "Python 3"
    },
    "language_info": {
      "name": "python"
    }
  },
  "cells": [
    {
      "cell_type": "markdown",
      "metadata": {
        "id": "view-in-github",
        "colab_type": "text"
      },
      "source": [
        "<a href=\"https://colab.research.google.com/github/Aadil-5122/Object-Oriented-Programming-in-Python/blob/main/JupyterNotebooks/3.1Inheritance.ipynb\" target=\"_parent\"><img src=\"https://colab.research.google.com/assets/colab-badge.svg\" alt=\"Open In Colab\"/></a>"
      ]
    },
    {
      "cell_type": "code",
      "source": [
        "# --------------------\n",
        "# SECTION - III(a) - Inheritance\n",
        "# --------------------\n"
      ],
      "metadata": {
        "id": "dc3so30bEKbK"
      },
      "execution_count": null,
      "outputs": []
    },
    {
      "cell_type": "code",
      "source": [
        "# Process in which one class takes in attributes and methods of one class,\n",
        "# So, this newly formed class is then called \"Child Class\" and\n",
        "# Other one is called \"Parent Class\"\n",
        "\n",
        "# Using Inheritance, we can: \n",
        "# 1. Inherit a Class\n",
        "# 2. Extend a Class\n",
        "# 3. OverRide a Class\n"
      ],
      "metadata": {
        "id": "D-GwTkWPEK5_"
      },
      "execution_count": null,
      "outputs": []
    },
    {
      "cell_type": "code",
      "source": [
        "class Employee: # Parent Class\n",
        "    def __init__(self, name, age):\n",
        "        self.name = name\n",
        "        self.age = age\n",
        "\n",
        "        # Now both the Child Classes have the above instance attributes,\n",
        "        # i.e., the \"age\" and the \"name\"\n",
        "\n",
        "    # Same goes for Instance Methods,\n",
        "    # i.e., Child Class Inherits Instance Methods as well\n",
        "\n",
        "    def work(self):\n",
        "        print(f'{self.name} is working')\n"
      ],
      "metadata": {
        "id": "Xxzi-QAwELmc"
      },
      "execution_count": null,
      "outputs": []
    },
    {
      "cell_type": "code",
      "source": [
        "class SoftwareEngineer(Employee): # Syntax for a Child Class\n",
        "    pass\n"
      ],
      "metadata": {
        "id": "kYGMzxrXESxC"
      },
      "execution_count": null,
      "outputs": []
    },
    {
      "cell_type": "code",
      "source": [
        "class Designer(Employee): # Syntax for a Child Class\n",
        "    pass\n"
      ],
      "metadata": {
        "id": "RGMNiyEDEUkq"
      },
      "execution_count": null,
      "outputs": []
    },
    {
      "cell_type": "code",
      "source": [
        "# Implementation of Child Class using the instance attributes and methods of Parent Class\n",
        "\n",
        "se = SoftwareEngineer(\"Max\", 24)\n",
        "print(se.name, se.age)\n",
        "se.work()\n",
        "\n",
        "d = Designer(\"Phillip\", 27)\n",
        "print(d.name, d.age)\n",
        "d.work()\n"
      ],
      "metadata": {
        "id": "vljk-7FjEWXR"
      },
      "execution_count": null,
      "outputs": []
    }
  ]
}