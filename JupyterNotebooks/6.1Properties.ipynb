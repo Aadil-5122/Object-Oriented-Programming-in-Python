{
  "nbformat": 4,
  "nbformat_minor": 0,
  "metadata": {
    "colab": {
      "provenance": [],
      "include_colab_link": true
    },
    "kernelspec": {
      "name": "python3",
      "display_name": "Python 3"
    },
    "language_info": {
      "name": "python"
    }
  },
  "cells": [
    {
      "cell_type": "markdown",
      "metadata": {
        "id": "view-in-github",
        "colab_type": "text"
      },
      "source": [
        "<a href=\"https://colab.research.google.com/github/Aadil-5122/Object-Oriented-Programming-in-Python/blob/main/JupyterNotebooks/6.1Properties.ipynb\" target=\"_parent\"><img src=\"https://colab.research.google.com/assets/colab-badge.svg\" alt=\"Open In Colab\"/></a>"
      ]
    },
    {
      "cell_type": "code",
      "source": [
        "# --------------------\n",
        "# SECTION - VI(a) - Properties\n",
        "# --------------------\n",
        "\n",
        "# Now, we will write Getter and Setter Functions in a more \"Pythonic\" way!\n",
        "# i.e., we will use Decorators in Python \n",
        "\n",
        "class SoftwareEngineer:\n",
        "\n",
        "    def __init__(self):\n",
        "        self._salary = None # Private Instance Variable\n"
      ],
      "metadata": {
        "id": "wt744deHMYNn"
      },
      "execution_count": null,
      "outputs": []
    },
    {
      "cell_type": "code",
      "source": [
        "    # def get_salary(self):\n",
        "    #     return self._salary\n",
        "\n",
        "    @property\n",
        "    def salary(self):\n",
        "        return self._salary\n"
      ],
      "metadata": {
        "id": "rzARhrZDMgsD"
      },
      "execution_count": null,
      "outputs": []
    },
    {
      "cell_type": "code",
      "source": [
        "    # def set_salary(self, value):\n",
        "    #     self._salary = value\n",
        "\n",
        "    @salary.setter\n",
        "    def salary(self, value):\n",
        "        self._salary = value\n"
      ],
      "metadata": {
        "id": "NLOZeKjEMji-"
      },
      "execution_count": null,
      "outputs": []
    },
    {
      "cell_type": "code",
      "source": [
        "    # i.e. instead of the conventional way of writing Getter and Setter Functions (as in the commented 4 lines),\n",
        "    # we write them using Decorators, where:\n",
        "    # - Getter and Setter Functions get the same name as the property for which they are getter and setter (here, salary)\n",
        "    # - Decorator of Getter is the built-in Decorator: \"@property\"\n",
        "    # - Decorator of Setter is also built-in but written using the Property name as: \"@salary.setter\"\n",
        "\n",
        "\n",
        "    # General Example of another Decorator pertaining to this topic:\n",
        "\n",
        "    @salary.deleter\n",
        "    def salary(self):\n",
        "        del self._salary\n"
      ],
      "metadata": {
        "id": "64lZFV-nMlOL"
      },
      "execution_count": null,
      "outputs": []
    },
    {
      "cell_type": "code",
      "source": [
        "se = SoftwareEngineer()\n",
        "\n",
        "# se.set_salary(6000)\n",
        "# print(se.get_salary())\n",
        "\n",
        "se.salary = 6000\n",
        "print(se.salary)\n"
      ],
      "metadata": {
        "id": "XE77j6cWMnbc"
      },
      "execution_count": null,
      "outputs": []
    },
    {
      "cell_type": "code",
      "source": [
        "del se.salary  # to run the third function mentioned above\n",
        "\n",
        "# the above statement will delete the instance variable,\n",
        "# so printing anything pertaining to this variable would throw an error\n"
      ],
      "metadata": {
        "id": "NPnyoYyDMo6M"
      },
      "execution_count": null,
      "outputs": []
    }
  ]
}