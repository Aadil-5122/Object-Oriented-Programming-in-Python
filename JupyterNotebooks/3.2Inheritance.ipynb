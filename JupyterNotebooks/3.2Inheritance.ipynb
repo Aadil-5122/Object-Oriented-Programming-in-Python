{
  "nbformat": 4,
  "nbformat_minor": 0,
  "metadata": {
    "colab": {
      "provenance": [],
      "include_colab_link": true
    },
    "kernelspec": {
      "name": "python3",
      "display_name": "Python 3"
    },
    "language_info": {
      "name": "python"
    }
  },
  "cells": [
    {
      "cell_type": "markdown",
      "metadata": {
        "id": "view-in-github",
        "colab_type": "text"
      },
      "source": [
        "<a href=\"https://colab.research.google.com/github/Aadil-5122/Object-Oriented-Programming-in-Python/blob/main/JupyterNotebooks/3.2Inheritance.ipynb\" target=\"_parent\"><img src=\"https://colab.research.google.com/assets/colab-badge.svg\" alt=\"Open In Colab\"/></a>"
      ]
    },
    {
      "cell_type": "code",
      "source": [
        "# --------------------\n",
        "# SECTION - III(b) - OverRide a Class Function using Inheritance\n",
        "# --------------------\n",
        "\n",
        "class Employee: # Parent Class\n",
        "    def __init__(self, name, age, salary):\n",
        "        self.name = name\n",
        "        self.age = age\n",
        "        self.salary = salary\n",
        "\n",
        "    def work(self):\n",
        "        print(f'{self.name} is working')\n"
      ],
      "metadata": {
        "id": "HGQjVqRZIZdn"
      },
      "execution_count": null,
      "outputs": []
    },
    {
      "cell_type": "code",
      "source": [
        "class SoftwareEngineer(Employee): # Syntax for a Child Class\n",
        "    \n",
        "    def __init__(self, name, age, salary, level):\n",
        "        super().__init__(name, age, salary)\n",
        "\n",
        "        # As this class already has the initialiser function of its Parent Class,\n",
        "        # So to initialise the already existing attributes, we call the Initialser of Parent Class,\n",
        "        # using the above statement \"super().__init__(name, age)\"\n",
        "\n",
        "        self.level = level\n",
        "\n",
        "        # So basically the above attribute \"level\" only works for SoftwareEngineer,\n",
        "        # and not the Designer\n"
      ],
      "metadata": {
        "id": "qf-PC7osIabl"
      },
      "execution_count": null,
      "outputs": []
    },
    {
      "cell_type": "code",
      "source": [
        "class Designer(Employee): # Syntax for a Child Class\n",
        "    pass\n"
      ],
      "metadata": {
        "id": "uWitJ0GLIcaE"
      },
      "execution_count": null,
      "outputs": []
    },
    {
      "cell_type": "code",
      "source": [
        "# Implementation of Child Class using the instance attributes and methods of Parent Class\n",
        "\n",
        "se = SoftwareEngineer(\"Max\", 24, 6000, \"Junior\")\n",
        "print(se.name, se.age)\n",
        "se.work()\n",
        "print(se.level)\n"
      ],
      "metadata": {
        "id": "bJr0Ct8nIePg"
      },
      "execution_count": null,
      "outputs": []
    },
    {
      "cell_type": "code",
      "source": [
        "d = Designer(\"Phillip\", 27, 7000)\n",
        "print(d.name, d.age)\n",
        "d.work()\n"
      ],
      "metadata": {
        "id": "nDmk1snLIg9N"
      },
      "execution_count": null,
      "outputs": []
    },
    {
      "cell_type": "code",
      "source": [
        "# Basically what we have done above is,\n",
        "# We have \"over-ridden\" the Parent Class Initialiser Function for a SoftWare Engineer,\n",
        "# Note that it is mandatory to use \"super().__init__()\" for correct initialisation of the object.\n",
        "# Application: We wanted to define \"level\" for a Software Engineer but not the Designer"
      ],
      "metadata": {
        "id": "Sd5oX8RqIj6C"
      },
      "execution_count": null,
      "outputs": []
    },
    {
      "cell_type": "markdown",
      "source": [],
      "metadata": {
        "id": "yT3UfAeGIeCe"
      }
    }
  ]
}